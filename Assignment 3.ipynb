{
 "cells": [
  {
   "cell_type": "markdown",
   "metadata": {},
   "source": [
    "# Assignment 3"
   ]
  },
  {
   "cell_type": "markdown",
   "metadata": {},
   "source": [
    "### Write a function to count the number 4 in a given list."
   ]
  },
  {
   "cell_type": "code",
   "execution_count": 8,
   "metadata": {},
   "outputs": [
    {
     "name": "stdout",
     "output_type": "stream",
     "text": [
      "2\n"
     ]
    }
   ],
   "source": [
    "def count_4(l):\n",
    "    \n",
    "    count = 0\n",
    "    \n",
    "    for i in l :\n",
    "        \n",
    "        if i == 4:\n",
    "            \n",
    "            count += 1\n",
    "        \n",
    "    return count\n",
    "\n",
    "l1 = [4,5,6,7,4,3,7,8]\n",
    "\n",
    "print(count_4(l1))"
   ]
  },
  {
   "cell_type": "markdown",
   "metadata": {},
   "source": [
    "### write a  function to check whether a number is divisible by another number."
   ]
  },
  {
   "cell_type": "code",
   "execution_count": 10,
   "metadata": {},
   "outputs": [
    {
     "name": "stdout",
     "output_type": "stream",
     "text": [
      "Enter First Num.  4\n",
      "Enter Second Num.  2\n",
      "True\n"
     ]
    }
   ],
   "source": [
    "def check(num1,num2):\n",
    "    \n",
    "    if num1 % num2 == 0 :\n",
    "        \n",
    "        print('True')\n",
    "        \n",
    "    else :\n",
    "        print('False')\n",
    "        \n",
    "\n",
    "x = int(input('Enter First Num.  '))\n",
    "\n",
    "y = int(input('Enter Second Num.  '))\n",
    "\n",
    "\n",
    "check(x,y)\n",
    "    "
   ]
  },
  {
   "cell_type": "markdown",
   "metadata": {},
   "source": [
    "### write a function to find the maximum and minimum numbers from a sequence of numbers."
   ]
  },
  {
   "cell_type": "code",
   "execution_count": 6,
   "metadata": {},
   "outputs": [
    {
     "name": "stdout",
     "output_type": "stream",
     "text": [
      "maximum num. is  9\n",
      "minimum num. is  -12\n"
     ]
    }
   ],
   "source": [
    "def max_min(l):\n",
    "    \n",
    "    maxi = max(l)\n",
    "    \n",
    "    mini = min(l)\n",
    "    \n",
    "    print('maximum num. is ',maxi)\n",
    "    \n",
    "    print('minimum num. is ',mini)\n",
    "    \n",
    "    \n",
    "max_min([5,2,4,8,9,-4,-9,-12,0,2,7])"
   ]
  },
  {
   "cell_type": "markdown",
   "metadata": {},
   "source": [
    "### Write a Python function that takes two lists and returns True if they have at least one common member."
   ]
  },
  {
   "cell_type": "code",
   "execution_count": 16,
   "metadata": {},
   "outputs": [
    {
     "name": "stdout",
     "output_type": "stream",
     "text": [
      " Enter First List aa dd ff gg\n",
      " Enter Second List rr tt gg bb\n"
     ]
    },
    {
     "data": {
      "text/plain": [
       "True"
      ]
     },
     "execution_count": 16,
     "metadata": {},
     "output_type": "execute_result"
    }
   ],
   "source": [
    "def check_common(l1,l2):\n",
    "    \n",
    "    for i in l1:\n",
    "        \n",
    "        for j in l2:\n",
    "            \n",
    "            if i == j :\n",
    "                \n",
    "                return True\n",
    "            \n",
    "x = input(' Enter First List ').split(\" \")\n",
    "\n",
    "y = input(' Enter Second List ').split(\" \")\n",
    "\n",
    "check_common(x,y)               "
   ]
  },
  {
   "cell_type": "markdown",
   "metadata": {},
   "source": [
    "### Write a Python function to calculate the factorial of a number (a non-negative integer). The function accepts the number from the user"
   ]
  },
  {
   "cell_type": "code",
   "execution_count": 83,
   "metadata": {},
   "outputs": [
    {
     "name": "stdout",
     "output_type": "stream",
     "text": [
      "Enter Num. -3\n",
      "factorial  of |-3| = 6 \n"
     ]
    }
   ],
   "source": [
    "def fact():\n",
    "    \n",
    "    x1 = int(input('Enter Num. '))\n",
    "    \n",
    "    fact = 1\n",
    "    \n",
    "    if x1 > 0 :\n",
    "        \n",
    "        for num in range(1,x1+1) :\n",
    "            \n",
    "            fact = fact * num\n",
    "            \n",
    "        print('factorial  of {} = {} '.format(x1,fact))\n",
    "    \n",
    "    elif x1 < 0 :\n",
    "        \n",
    "        x2 = x1 * -1\n",
    "        \n",
    "        for num in range(1,x2+1) :\n",
    "            \n",
    "            fact = fact * num\n",
    "            \n",
    "        print('factorial  of {} = {} '.format('|{}|'.format (x1),fact))\n",
    "        \n",
    "    else :\n",
    "        \n",
    "        print('factorial  of zero = 1')\n",
    "        \n",
    "        \n",
    "fact()\n",
    "        "
   ]
  },
  {
   "cell_type": "markdown",
   "metadata": {},
   "source": [
    "### Write a Python function to check whether a number is in a given range.\n",
    "\n",
    "### The range is from 3 to 11\n"
   ]
  },
  {
   "cell_type": "code",
   "execution_count": 39,
   "metadata": {},
   "outputs": [
    {
     "name": "stdout",
     "output_type": "stream",
     "text": [
      "Enter Num. for check : 5\n",
      " True \n",
      " num. 5 is in range\n"
     ]
    }
   ],
   "source": [
    "def check_inrange():\n",
    "    \n",
    "    x = int(input('Enter Num. for check : '))\n",
    "    \n",
    "    for i in range(3,11):\n",
    "        \n",
    "        if i == x :\n",
    "            \n",
    "            print(' True \\n num. {} is in range'.format(x))\n",
    "\n",
    "            \n",
    "check_inrange()"
   ]
  },
  {
   "cell_type": "markdown",
   "metadata": {},
   "source": [
    "### Write a  program to create the multiplication table (from 1 to 10) of a number."
   ]
  },
  {
   "cell_type": "code",
   "execution_count": 78,
   "metadata": {},
   "outputs": [
    {
     "name": "stdout",
     "output_type": "stream",
     "text": [
      "[1, 2, 3, 4, 5, 6, 7, 8, 9, 10, 2, 4, 6, 8, 10, 12, 14, 16, 18, 20, 3, 6, 9, 12, 15, 18, 21, 24, 27, 30, 4, 8, 12, 16, 20, 24, 28, 32, 36, 40, 5, 10, 15, 20, 25, 30, 35, 40, 45, 50, 6, 12, 18, 24, 30, 36, 42, 48, 54, 60, 7, 14, 21, 28, 35, 42, 49, 56, 63, 70, 8, 16, 24, 32, 40, 48, 56, 64, 72, 80, 9, 18, 27, 36, 45, 54, 63, 72, 81, 90, 10, 20, 30, 40, 50, 60, 70, 80, 90, 100]\n"
     ]
    }
   ],
   "source": [
    "x = 1\n",
    "\n",
    "y = 10\n",
    "\n",
    "l=[]\n",
    "\n",
    "# first loop \" give num. to second loop to multiply o=it with all range in second loop\"\n",
    "\n",
    "for i in range(x,y+1):\n",
    "    \n",
    "    #second loop from 1 to 10 \" multiply the num. from first loop by all number in second loop , and return to first loop again using second num. in it\"\n",
    "    \n",
    "    for j in range(x,y+1):\n",
    "        \n",
    "        l.append(i*j)\n",
    "                \n",
    "print(l)"
   ]
  },
  {
   "cell_type": "markdown",
   "metadata": {},
   "source": [
    "#### LESSER OF TWO EVENS: Write a function that returns the lesser of two given numbers *if* both numbers are even, but returns the greater if one or both numbers are odd\n",
    "    lesser_of_two_evens(2,4) --> 2\n",
    "    lesser_of_two_evens(2,5) --> 5"
   ]
  },
  {
   "cell_type": "code",
   "execution_count": 82,
   "metadata": {},
   "outputs": [
    {
     "name": "stdout",
     "output_type": "stream",
     "text": [
      " Enter first num. : 6\n",
      " Enter second num. : 9\n",
      "9\n"
     ]
    }
   ],
   "source": [
    "def lesser_greater():\n",
    "    \n",
    "    x = int(input(' Enter first num. : '))\n",
    "    \n",
    "    y = int(input(' Enter second num. : '))\n",
    "    \n",
    "    if x % 2 == 0 and y % 2 == 0 :\n",
    "        \n",
    "        return min(x,y)\n",
    "    \n",
    "    else :\n",
    "        \n",
    "        return max(x,y)\n",
    "    \n",
    "print(lesser_greater())"
   ]
  },
  {
   "cell_type": "code",
   "execution_count": null,
   "metadata": {},
   "outputs": [],
   "source": []
  }
 ],
 "metadata": {
  "kernelspec": {
   "display_name": "Python 3 (ipykernel)",
   "language": "python",
   "name": "python3"
  },
  "language_info": {
   "codemirror_mode": {
    "name": "ipython",
    "version": 3
   },
   "file_extension": ".py",
   "mimetype": "text/x-python",
   "name": "python",
   "nbconvert_exporter": "python",
   "pygments_lexer": "ipython3",
   "version": "3.9.12"
  }
 },
 "nbformat": 4,
 "nbformat_minor": 2
}
